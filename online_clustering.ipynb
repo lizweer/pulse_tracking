{
 "cells": [
  {
   "cell_type": "markdown",
   "metadata": {},
   "source": [
    "# imports"
   ]
  },
  {
   "cell_type": "code",
   "execution_count": 1,
   "metadata": {},
   "outputs": [],
   "source": [
    "import thunderfish.dataloader as dl\n",
    "import thunderfish.pulsetracker as pt\n",
    "import thunderfish.eventdetection as ed\n",
    "import matplotlib.pyplot as plt\n",
    "import numpy as np\n",
    "import os"
   ]
  },
  {
   "cell_type": "markdown",
   "metadata": {},
   "source": [
    "# parameters and functions\n"
   ]
  },
  {
   "cell_type": "code",
   "execution_count": 2,
   "metadata": {},
   "outputs": [],
   "source": [
    "def plot_peaks(x,y,peaksx,peaksy,c='k'):\n",
    "    plt.figure(figsize=(10,5))\n",
    "    plt.plot(x,y,zorder=-1)\n",
    "    plt.scatter(starttime + peaksx/data.samplerate,peaksy,c=c)\n",
    "    plt.xlabel('time [s]')\n",
    "    plt.ylabel('signal')\n",
    "    \n",
    "def plot_events_on_data(peaks, data):\n",
    "    \n",
    "    \"\"\"\n",
    "        plots the detected events onto the data timeseries. If the events are classified, the classes are plotted in different colors and the class -1 (not belonging to a cluster) is plotted in black\n",
    "    \"\"\"\n",
    "    plt.plot(range(len(data)),data, color = 'black')\n",
    "    plt.axis('off')\n",
    "    if len(peaks)>3:\n",
    "        classlist =  np.array(peaks[3],dtype=np.int)\n",
    "        if len(peaks) > 4:\n",
    "            classlist = np.array(peaks[4],dtype=np.int)\n",
    "        cmap = plt.get_cmap('jet')\n",
    "        colors =cmap(np.linspace(0, 1.0, 3000)) #len(np.unique(classlist))))\n",
    "        np.random.seed(3)\n",
    "        np.random.shuffle(colors)\n",
    "        colors = [colors[cl] for cl in np.unique(classlist)]\n",
    "        for cl, color in zip(np.unique(classlist), colors):\n",
    "            if min(classlist) == 0 and cl == 0:\n",
    "                color = 'black'\n",
    "            if cl == -1:\n",
    "                color = 'black'\n",
    "            \n",
    "            peaksofclass = peaks[:,classlist == cl]\n",
    "            if cl == 1:\n",
    "                colorr = 'r'\n",
    "            else:\n",
    "                colorr = 'b'\n",
    "            plt.plot(peaksofclass[0],peaksofclass[1], '.', color = colorr,   ms =20, label=cl)\n",
    "    else:\n",
    "        plt.scatter(peaks[0],peaks[1], color = 'red')\n",
    "    #plt.legend()"
   ]
  },
  {
   "cell_type": "markdown",
   "metadata": {},
   "source": [
    "# load data"
   ]
  },
  {
   "cell_type": "code",
   "execution_count": 3,
   "metadata": {},
   "outputs": [],
   "source": [
    "# create list of filepaths..\n",
    "text_file = open(\"leticia_filenames_sorted.txt\", \"r\")\n",
    "lines = text_file.read().split('\\n')\n",
    "i = 4"
   ]
  },
  {
   "cell_type": "code",
   "execution_count": 4,
   "metadata": {},
   "outputs": [],
   "source": [
    "filepath = '/home/dexter/' + lines[i][:-4] + '/' + lines[i]"
   ]
  },
  {
   "cell_type": "code",
   "execution_count": 5,
   "metadata": {},
   "outputs": [
    {
     "data": {
      "text/plain": [
       "'/home/dexter/31105L01F14/31105L01F14.WAV'"
      ]
     },
     "execution_count": 5,
     "metadata": {},
     "output_type": "execute_result"
    }
   ],
   "source": [
    "filepath"
   ]
  },
  {
   "cell_type": "code",
   "execution_count": 6,
   "metadata": {},
   "outputs": [],
   "source": [
    "starttime = 0\n",
    "endtime = 2   #in seconds\n",
    "\n",
    "with dl.open_data(filepath, -1, 1.0) as data:\n",
    "    dt = 1/data.samplerate\n",
    "    # do something with the content of the file:\n",
    "    x = np.arange(starttime,endtime,dt)\n",
    "    y = data[starttime*data.samplerate:endtime*data.samplerate,0]"
   ]
  },
  {
   "cell_type": "markdown",
   "metadata": {},
   "source": [
    "# online clustering step by step\n",
    "## 1. EOD detection\n",
    "Create a data structures with the locations and amplitudes of the EODs"
   ]
  },
  {
   "cell_type": "code",
   "execution_count": 7,
   "metadata": {},
   "outputs": [],
   "source": [
    "from scipy.interpolate import interp1d\n",
    "from scipy.signal import correlate\n",
    "from scipy.signal import argrelextrema\n",
    "\n",
    "# parameters for the analysis\n",
    "thresh = 0.1 # minimal threshold for peakdetection\n",
    "peakwidth = 20 # width of a peak and minimal distance between two EODs"
   ]
  },
  {
   "cell_type": "code",
   "execution_count": 8,
   "metadata": {},
   "outputs": [],
   "source": [
    "pk, tr = ed.detect_peaks(y, thresh)\n",
    "peaks = pt.makeeventlist(pk,tr,y,peakwidth)\n",
    "peakindices, peakx, peakh = pt.discardnearbyevents(peaks[0],peaks[1],peakwidth)\n",
    "peaks = np.transpose(peaks[:,peakindices])"
   ]
  },
  {
   "cell_type": "markdown",
   "metadata": {},
   "source": [
    "## 2. Online clustering\n",
    "create object"
   ]
  },
  {
   "cell_type": "code",
   "execution_count": 9,
   "metadata": {},
   "outputs": [],
   "source": [
    "class cluster_object(object):\n",
    "    def __init__(self,label,mean,features,last_idx,peaknum):\n",
    "        self.label = label\n",
    "        self.mean = mean\n",
    "        self.features = features\n",
    "        self.last_idx = last_idx\n",
    "        self.idxs = np.zeros(peaknum)\n",
    "        \n",
    "def align(eod,cluster_mean,width):\n",
    "    \n",
    "    # don't just take max but take a peak of the cc\n",
    "    # this is to prevent shifting to the next peak in the sequence.\n",
    "    \n",
    "    cc = correlate(eod,cluster_mean,'same')\n",
    "    local_max_idx = argrelextrema(cc[width:-width], np.greater)[0] + width\n",
    "    diff = np.abs(local_max_idx - len(eod)/2)\n",
    "    if diff.size > 0:\n",
    "        offset = local_max_idx[np.argmin(diff)]\n",
    "    else:\n",
    "        offset = int(len(eod)/2)\n",
    "    return extract(eod,offset,width)\n",
    "    \n",
    "def extract(eod,offset,width):\n",
    "    return eod[offset-width:offset+width]\n",
    "\n",
    "def normalize(x):\n",
    "    return (x-np.mean(x))\n",
    "\n",
    "cmap = plt.get_cmap('jet')    \n",
    "colors = cmap(np.linspace(0, 1.0, 3000)) #len(np.unique(classlist))))\n",
    "np.random.seed(3)\n",
    "np.random.shuffle(colors)"
   ]
  },
  {
   "cell_type": "code",
   "execution_count": 10,
   "metadata": {
    "scrolled": false
   },
   "outputs": [],
   "source": [
    "clusters = []\n",
    "maxlabel = 1\n",
    "labels = np.zeros(len(peaks))\n",
    "\n",
    "# parameters\n",
    "cutwidth = peakwidth\n",
    "alignwidth = 70\n",
    "int_met = 'quadratic'\n",
    "eta = 0.1\n",
    "error_threshold = 0.05\n",
    "npol = 7\n",
    "\n",
    "#decide on the plotting\n",
    "plot_steps = False\n",
    "plot_means = False\n",
    "\n",
    "if plot_means == True:\n",
    "    f, (ax1, ax2) = plt.subplots(1, 2,figsize=(10,5))\n",
    "\n",
    "for i,p in enumerate(peaks):\n",
    "    \n",
    "    if plot_steps == True:\n",
    "        f, (ax1, ax2) = plt.subplots(1, 2,figsize=(10,5))\n",
    "    \n",
    "    # cut along peak to get the EOD shape\n",
    "    p_idx = int(p[0])\n",
    "    p_hight = p[2]\n",
    "    \n",
    "    eod = y[p_idx-cutwidth:p_idx+cutwidth]\n",
    "    \n",
    "    #interpolate --> maybe this step is not needed anymore\n",
    "    eod_func = interp1d(range(len(eod)), eod, int_met)\n",
    "    eod_ip = eod_func(np.arange(0,len(eod)-1,0.1))\n",
    "    \n",
    "    # if its slow change this to numpy arrays\n",
    "    aligned_eods = np.zeros((len(clusters),alignwidth*2))\n",
    "    c_feats = np.zeros((len(clusters),npol+2))\n",
    "    \n",
    "    current_clusters = []\n",
    "    \n",
    "    # align peaks with all existing clusters\n",
    "    # this is what is really slowing down the process. \n",
    "    # many clusters make it exponentially slower. can I avoid this loop?\n",
    "    if len(clusters) > 0:\n",
    "        \n",
    "        # I only have to do this every n seconds or every n peaks\n",
    "        keep = np.zeros(len(clusters))\n",
    "        for c,cluster in enumerate(clusters):\n",
    "            # delete clusters that are too far away\n",
    "            if p_idx - cluster.last_idx < 2000000: #and np.count_nonzero(labels == cluster.label) < 3:\n",
    "                current_clusters.append(cluster)        \n",
    "        \n",
    "        clusters = current_clusters\n",
    "        \n",
    "        # ============== start analysis =================\n",
    "        for c,cluster in enumerate(clusters):\n",
    "            # aligning to every cluster is not neccesary anymore.\n",
    "            aligned_eods[c] = align(eod_ip, cluster.mean, alignwidth)\n",
    "            c_feats[c] = cluster.features\n",
    "            if plot_steps == True:\n",
    "                ax1.plot(cluster.mean)\n",
    "                ax2.plot(cluster.features)\n",
    "        \n",
    "        # normalize\n",
    "        means = normalize(aligned_eods)\n",
    "\n",
    "        # extract features\n",
    "        cheb = np.polynomial.chebyshev.chebfit(np.linspace(-1,1,\n",
    "            aligned_eods.shape[1]), np.transpose(means),npol)\n",
    "\n",
    "        hfeat = np.ones(cheb.shape[1])*p_hight/2\n",
    "\n",
    "        #append peak hight to features\n",
    "        feats = np.transpose(np.vstack([cheb, hfeat]))\n",
    "\n",
    "        # compute difference in feature vectors\n",
    "        cluster_errors = np.linalg.norm(feats - c_feats, axis=1)\n",
    "        \n",
    "        if plot_steps == True:\n",
    "            ax1.plot(np.transpose(means),c='k',alpha=0.5)\n",
    "            ax2.plot(np.transpose(feats),c='k',alpha=0.5)\n",
    "            ax1.plot(means[np.argmin(cluster_errors)],c='k',linestyle='--',zorder=3)\n",
    "            ax2.plot(feats[np.argmin(cluster_errors)],c='k',linestyle='--',zorder=3)\n",
    "\n",
    "        if np.min(cluster_errors) < error_threshold:\n",
    "            # assign eod to the class with the lowest cluster_error\n",
    "            labels[i] = clusters[np.argmin(cluster_errors)].label\n",
    "\n",
    "            #adapt this cluster with learning rate eta\n",
    "            \n",
    "            #clusters[np.argmin(cluster_errors)].mean = (1-eta)*  \\\n",
    "            #clusters[np.argmin(cluster_errors)].mean +       \\\n",
    "            #    eta*means[np.argmin(cluster_errors)]\n",
    "\n",
    "            clusters[np.argmin(cluster_errors)].features = (1-eta)*  \\\n",
    "                clusters[np.argmin(cluster_errors)].features +       \\\n",
    "                eta*feats[np.argmin(cluster_errors)]        \n",
    "\n",
    "            #clusters[np.argmin(cluster_errors)].features = \n",
    "            clusters[np.argmin(cluster_errors)].last_idx = p_idx\n",
    "            \n",
    "        else:\n",
    "            \n",
    "            if len(clusters) >= 2:\n",
    "                # check for collisions\n",
    "                pass\n",
    "            \n",
    "            # create new cluster class\n",
    "            labels[i] = maxlabel\n",
    "            \n",
    "            maxlabel = maxlabel + 1\n",
    "            new_cluster = cluster_object(labels[i],means[0],\n",
    "                                     feats[0],p_idx,len(peaks))\n",
    "            clusters.append(new_cluster)\n",
    "        \n",
    "        if plot_means == True:\n",
    "                ax1.plot(means[np.argmin(cluster_errors)],c=colors[int(labels[i])])\n",
    "                ax2.plot(feats[np.argmin(cluster_errors)],c=colors[int(labels[i])])\n",
    "    else:\n",
    "        # create new cluster class\n",
    "        labels[i] = maxlabel\n",
    "        maxlabel = maxlabel + 1\n",
    "        \n",
    "        # take middle of snip\n",
    "        mid = int(len(eod_ip)/2)\n",
    "        eod_ip = extract(eod_ip,mid,alignwidth)\n",
    "        \n",
    "        # normalize\n",
    "        eod_ip = normalize(eod_ip)\n",
    "        \n",
    "        # extract features\n",
    "        cheb = np.polynomial.chebyshev.chebfit(np.linspace(-1,1,\n",
    "            aligned_eods.shape[1]), eod_ip, npol)\n",
    "        \n",
    "        #features = cheb.coef\n",
    "        features = np.append(cheb, p_hight/2)\n",
    "        \n",
    "        new_cluster = cluster_object(labels[i],eod_ip,features,p_idx,len(peaks))\n",
    "        clusters.append(new_cluster)\n",
    "    \n",
    "    \n",
    "    # save eods every n steps. before saving delete the short classes.\n",
    "    # save the peaks of the current buffered part to a numpy-memmap on the disk\n",
    "    # ==> sth like this: save_EOD_events_to_npmmp(thisblock_eods,eods_len,idx==startblock,datasavepath,mmpname)"
   ]
  },
  {
   "cell_type": "code",
   "execution_count": 11,
   "metadata": {},
   "outputs": [],
   "source": [
    "peaks = np.append(np.transpose(peaks),[labels], axis = 0)"
   ]
  },
  {
   "cell_type": "code",
   "execution_count": 12,
   "metadata": {},
   "outputs": [],
   "source": [
    "peaks_ns = pt.discard_short_classes(peaks, 3)\n",
    "\n",
    "# set peaks that don't have many instances to the noise class."
   ]
  },
  {
   "cell_type": "code",
   "execution_count": 13,
   "metadata": {},
   "outputs": [
    {
     "data": {
      "text/plain": [
       "(4, 69)"
      ]
     },
     "execution_count": 13,
     "metadata": {},
     "output_type": "execute_result"
    }
   ],
   "source": [
    "peaks_ns.shape"
   ]
  },
  {
   "cell_type": "code",
   "execution_count": 23,
   "metadata": {},
   "outputs": [
    {
     "name": "stdout",
     "output_type": "stream",
     "text": [
      "1.0\n",
      "2.0\n"
     ]
    }
   ],
   "source": [
    "plt.axis('off')\n",
    "for i,c in enumerate(clusters):\n",
    "    print(c.label)\n",
    "    if i == 1:\n",
    "        colorr = 'r'\n",
    "    else:\n",
    "        colorr = 'b'\n",
    "    plt.plot(c.mean,c=colorr)"
   ]
  },
  {
   "cell_type": "code",
   "execution_count": 15,
   "metadata": {},
   "outputs": [
    {
     "data": {
      "image/png": "[encoded data removed]",
      "text/plain": [
       "<Figure size 432x288 with 1 Axes>"
      ]
     },
     "metadata": {
      "needs_background": "light"
     },
     "output_type": "display_data"
    }
   ],
   "source": [
    "for c in clusters:\n",
    "    plt.plot(c.features,c=colors[int(c.label)])"
   ]
  },
  {
   "cell_type": "code",
   "execution_count": 16,
   "metadata": {},
   "outputs": [],
   "source": [
    "%matplotlib qt\n",
    "plot_events_on_data(peaks_ns,y)"
   ]
  },
  {
   "cell_type": "code",
   "execution_count": 17,
   "metadata": {},
   "outputs": [
    {
     "data": {
      "text/plain": [
       "2"
      ]
     },
     "execution_count": 17,
     "metadata": {},
     "output_type": "execute_result"
    }
   ],
   "source": [
    "len(clusters)"
   ]
  },
  {
   "cell_type": "code",
   "execution_count": 18,
   "metadata": {},
   "outputs": [
    {
     "data": {
      "text/plain": [
       "(2, 140)"
      ]
     },
     "execution_count": 18,
     "metadata": {},
     "output_type": "execute_result"
    }
   ],
   "source": [
    "aligned_eods.shape"
   ]
  },
  {
   "cell_type": "code",
   "execution_count": 19,
   "metadata": {},
   "outputs": [
    {
     "name": "stdout",
     "output_type": "stream",
     "text": [
      "[ 1299.  1921.  2932.  3978.  4564.  6029.  6191.  7826.  8089.  9468.\n",
      " 10149. 11104. 12203. 12741. 14257. 14376. 16017. 16313. 17663. 18377.\n",
      " 19318. 20440. 20977. 22497. 22643. 24312. 24548. 25986. 26602. 27663.\n",
      " 28660. 29341. 30718. 31022. 32704. 32777. 34377. 34826. 36046. 36872.\n",
      " 37713. 38920. 39384. 40971. 41064. 42748. 43024. 44437. 45080. 46130.\n",
      " 47107. 47824. 49146. 49525. 51196. 51227. 52931. 53250. 54641. 55301.\n",
      " 56350. 57353. 58057. 59399. 59766. 61447. 61471. 63179. 63499.]\n"
     ]
    }
   ],
   "source": [
    "print(peaks[0])"
   ]
  },
  {
   "cell_type": "code",
   "execution_count": 20,
   "metadata": {},
   "outputs": [
    {
     "data": {
      "text/plain": [
       "2"
      ]
     },
     "execution_count": 20,
     "metadata": {},
     "output_type": "execute_result"
    }
   ],
   "source": [
    "len(clusters)"
   ]
  },
  {
   "cell_type": "code",
   "execution_count": 21,
   "metadata": {},
   "outputs": [
    {
     "ename": "NameError",
     "evalue": "name 'a' is not defined",
     "output_type": "error",
     "traceback": [
      "\u001b[0;31m---------------------------------------------------------------------------\u001b[0m",
      "\u001b[0;31mNameError\u001b[0m                                 Traceback (most recent call last)",
      "\u001b[0;32m<ipython-input-21-3f786850e387>\u001b[0m in \u001b[0;36m<module>\u001b[0;34m\u001b[0m\n\u001b[0;32m----> 1\u001b[0;31m \u001b[0ma\u001b[0m\u001b[0;34m\u001b[0m\u001b[0;34m\u001b[0m\u001b[0m\n\u001b[0m",
      "\u001b[0;31mNameError\u001b[0m: name 'a' is not defined"
     ]
    }
   ],
   "source": [
    "a"
   ]
  },
  {
   "cell_type": "code",
   "execution_count": null,
   "metadata": {},
   "outputs": [],
   "source": [
    "len(peaks)"
   ]
  },
  {
   "cell_type": "code",
   "execution_count": null,
   "metadata": {},
   "outputs": [],
   "source": []
  }
 ],
 "metadata": {
  "kernelspec": {
   "display_name": "Python 3",
   "language": "python",
   "name": "python3"
  },
  "language_info": {
   "codemirror_mode": {
    "name": "ipython",
    "version": 3
   },
   "file_extension": ".py",
   "mimetype": "text/x-python",
   "name": "python",
   "nbconvert_exporter": "python",
   "pygments_lexer": "ipython3",
   "version": "3.7.3"
  }
 },
 "nbformat": 4,
 "nbformat_minor": 2
}
